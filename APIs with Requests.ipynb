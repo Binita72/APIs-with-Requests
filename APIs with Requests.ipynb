{
 "cells": [
  {
   "cell_type": "markdown",
   "metadata": {},
   "source": [
    "# Pulling data from public APIs - GET request"
   ]
  },
  {
   "cell_type": "code",
   "execution_count": 1,
   "metadata": {},
   "outputs": [],
   "source": [
    "base_url = \"https://api.exchangeratesapi.io/latest\""
   ]
  },
  {
   "cell_type": "markdown",
   "metadata": {},
   "source": [
    "# Extracting data on currency exchange rates"
   ]
  },
  {
   "cell_type": "markdown",
   "metadata": {},
   "source": [
    "## Sending a GET request"
   ]
  },
  {
   "cell_type": "code",
   "execution_count": 3,
   "metadata": {},
   "outputs": [],
   "source": [
    "import requests"
   ]
  },
  {
   "cell_type": "code",
   "execution_count": 4,
   "metadata": {},
   "outputs": [],
   "source": [
    "response = requests.get(base_url)"
   ]
  },
  {
   "cell_type": "markdown",
   "metadata": {},
   "source": [
    "## Investigating the response"
   ]
  },
  {
   "cell_type": "code",
   "execution_count": 5,
   "metadata": {},
   "outputs": [
    {
     "data": {
      "text/plain": [
       "True"
      ]
     },
     "execution_count": 5,
     "metadata": {},
     "output_type": "execute_result"
    }
   ],
   "source": [
    " response.ok"
   ]
  },
  {
   "cell_type": "code",
   "execution_count": 6,
   "metadata": {},
   "outputs": [
    {
     "data": {
      "text/plain": [
       "200"
      ]
     },
     "execution_count": 6,
     "metadata": {},
     "output_type": "execute_result"
    }
   ],
   "source": [
    "response.status_code"
   ]
  },
  {
   "cell_type": "code",
   "execution_count": 7,
   "metadata": {},
   "outputs": [
    {
     "data": {
      "text/plain": [
       "'{\"rates\":{\"CAD\":1.5331,\"HKD\":9.401,\"ISK\":152.9,\"PHP\":59.09,\"DKK\":7.4361,\"HUF\":361.43,\"CZK\":26.195,\"AUD\":1.5605,\"RON\":4.875,\"SEK\":10.1388,\"IDR\":17353.51,\"INR\":89.5766,\"BRL\":6.6644,\"RUB\":90.6697,\"HRK\":7.583,\"JPY\":128.83,\"THB\":36.799,\"CHF\":1.0986,\"SGD\":1.6106,\"PLN\":4.5186,\"BGN\":1.9558,\"TRY\":9.0168,\"CNY\":7.8385,\"NOK\":10.4012,\"NZD\":1.6622,\"ZAR\":18.1025,\"USD\":1.2121,\"MXN\":25.2879,\"ILS\":4.0072,\"GBP\":0.87053,\"KRW\":1367.1,\"MYR\":4.9096},\"base\":\"EUR\",\"date\":\"2021-02-26\"}'"
      ]
     },
     "execution_count": 7,
     "metadata": {},
     "output_type": "execute_result"
    }
   ],
   "source": [
    "response.text"
   ]
  },
  {
   "cell_type": "code",
   "execution_count": 8,
   "metadata": {},
   "outputs": [
    {
     "data": {
      "text/plain": [
       "b'{\"rates\":{\"CAD\":1.5331,\"HKD\":9.401,\"ISK\":152.9,\"PHP\":59.09,\"DKK\":7.4361,\"HUF\":361.43,\"CZK\":26.195,\"AUD\":1.5605,\"RON\":4.875,\"SEK\":10.1388,\"IDR\":17353.51,\"INR\":89.5766,\"BRL\":6.6644,\"RUB\":90.6697,\"HRK\":7.583,\"JPY\":128.83,\"THB\":36.799,\"CHF\":1.0986,\"SGD\":1.6106,\"PLN\":4.5186,\"BGN\":1.9558,\"TRY\":9.0168,\"CNY\":7.8385,\"NOK\":10.4012,\"NZD\":1.6622,\"ZAR\":18.1025,\"USD\":1.2121,\"MXN\":25.2879,\"ILS\":4.0072,\"GBP\":0.87053,\"KRW\":1367.1,\"MYR\":4.9096},\"base\":\"EUR\",\"date\":\"2021-02-26\"}'"
      ]
     },
     "execution_count": 8,
     "metadata": {},
     "output_type": "execute_result"
    }
   ],
   "source": [
    "response.content"
   ]
  },
  {
   "cell_type": "markdown",
   "metadata": {},
   "source": [
    "The 'requests' library provides us with the '.json()' method, which converts a JSON formatted response to a native Python object."
   ]
  },
  {
   "cell_type": "markdown",
   "metadata": {},
   "source": [
    "## Handling the JSON"
   ]
  },
  {
   "cell_type": "code",
   "execution_count": 10,
   "metadata": {},
   "outputs": [
    {
     "data": {
      "text/plain": [
       "<bound method Response.json of <Response [200]>>"
      ]
     },
     "execution_count": 10,
     "metadata": {},
     "output_type": "execute_result"
    }
   ],
   "source": [
    "response.json"
   ]
  },
  {
   "cell_type": "code",
   "execution_count": 11,
   "metadata": {},
   "outputs": [
    {
     "data": {
      "text/plain": [
       "dict"
      ]
     },
     "execution_count": 11,
     "metadata": {},
     "output_type": "execute_result"
    }
   ],
   "source": [
    "type(response.json())"
   ]
  },
  {
   "cell_type": "code",
   "execution_count": 12,
   "metadata": {},
   "outputs": [],
   "source": [
    "import json"
   ]
  },
  {
   "cell_type": "code",
   "execution_count": 14,
   "metadata": {},
   "outputs": [
    {
     "data": {
      "text/plain": [
       "'{\\n    \"rates\": {\\n        \"CAD\": 1.5331,\\n        \"HKD\": 9.401,\\n        \"ISK\": 152.9,\\n        \"PHP\": 59.09,\\n        \"DKK\": 7.4361,\\n        \"HUF\": 361.43,\\n        \"CZK\": 26.195,\\n        \"AUD\": 1.5605,\\n        \"RON\": 4.875,\\n        \"SEK\": 10.1388,\\n        \"IDR\": 17353.51,\\n        \"INR\": 89.5766,\\n        \"BRL\": 6.6644,\\n        \"RUB\": 90.6697,\\n        \"HRK\": 7.583,\\n        \"JPY\": 128.83,\\n        \"THB\": 36.799,\\n        \"CHF\": 1.0986,\\n        \"SGD\": 1.6106,\\n        \"PLN\": 4.5186,\\n        \"BGN\": 1.9558,\\n        \"TRY\": 9.0168,\\n        \"CNY\": 7.8385,\\n        \"NOK\": 10.4012,\\n        \"NZD\": 1.6622,\\n        \"ZAR\": 18.1025,\\n        \"USD\": 1.2121,\\n        \"MXN\": 25.2879,\\n        \"ILS\": 4.0072,\\n        \"GBP\": 0.87053,\\n        \"KRW\": 1367.1,\\n        \"MYR\": 4.9096\\n    },\\n    \"base\": \"EUR\",\\n    \"date\": \"2021-02-26\"\\n}'"
      ]
     },
     "execution_count": 14,
     "metadata": {},
     "output_type": "execute_result"
    }
   ],
   "source": [
    "json.dumps(response.json(), indent = 4)"
   ]
  },
  {
   "cell_type": "code",
   "execution_count": 15,
   "metadata": {},
   "outputs": [
    {
     "name": "stdout",
     "output_type": "stream",
     "text": [
      "{\n",
      "    \"rates\": {\n",
      "        \"CAD\": 1.5331,\n",
      "        \"HKD\": 9.401,\n",
      "        \"ISK\": 152.9,\n",
      "        \"PHP\": 59.09,\n",
      "        \"DKK\": 7.4361,\n",
      "        \"HUF\": 361.43,\n",
      "        \"CZK\": 26.195,\n",
      "        \"AUD\": 1.5605,\n",
      "        \"RON\": 4.875,\n",
      "        \"SEK\": 10.1388,\n",
      "        \"IDR\": 17353.51,\n",
      "        \"INR\": 89.5766,\n",
      "        \"BRL\": 6.6644,\n",
      "        \"RUB\": 90.6697,\n",
      "        \"HRK\": 7.583,\n",
      "        \"JPY\": 128.83,\n",
      "        \"THB\": 36.799,\n",
      "        \"CHF\": 1.0986,\n",
      "        \"SGD\": 1.6106,\n",
      "        \"PLN\": 4.5186,\n",
      "        \"BGN\": 1.9558,\n",
      "        \"TRY\": 9.0168,\n",
      "        \"CNY\": 7.8385,\n",
      "        \"NOK\": 10.4012,\n",
      "        \"NZD\": 1.6622,\n",
      "        \"ZAR\": 18.1025,\n",
      "        \"USD\": 1.2121,\n",
      "        \"MXN\": 25.2879,\n",
      "        \"ILS\": 4.0072,\n",
      "        \"GBP\": 0.87053,\n",
      "        \"KRW\": 1367.1,\n",
      "        \"MYR\": 4.9096\n",
      "    },\n",
      "    \"base\": \"EUR\",\n",
      "    \"date\": \"2021-02-26\"\n",
      "}\n"
     ]
    }
   ],
   "source": [
    "print(json.dumps(response.json(), indent = 4))"
   ]
  },
  {
   "cell_type": "code",
   "execution_count": 17,
   "metadata": {},
   "outputs": [
    {
     "data": {
      "text/plain": [
       "dict_keys(['rates', 'base', 'date'])"
      ]
     },
     "execution_count": 17,
     "metadata": {},
     "output_type": "execute_result"
    }
   ],
   "source": [
    "response.json().keys()"
   ]
  },
  {
   "cell_type": "markdown",
   "metadata": {},
   "source": [
    "So far, here I have managed to connect to the API, extract the response data and understand its contents."
   ]
  },
  {
   "cell_type": "code",
   "execution_count": null,
   "metadata": {},
   "outputs": [],
   "source": []
  }
 ],
 "metadata": {
  "kernelspec": {
   "display_name": "Python 3",
   "language": "python",
   "name": "python3"
  },
  "language_info": {
   "codemirror_mode": {
    "name": "ipython",
    "version": 3
   },
   "file_extension": ".py",
   "mimetype": "text/x-python",
   "name": "python",
   "nbconvert_exporter": "python",
   "pygments_lexer": "ipython3",
   "version": "3.8.3"
  }
 },
 "nbformat": 4,
 "nbformat_minor": 4
}
